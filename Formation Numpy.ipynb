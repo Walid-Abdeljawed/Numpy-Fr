{
 "cells": [
  {
   "cell_type": "markdown",
   "metadata": {},
   "source": [
    "<center><h1>Analyse des données avec Python</h1></center>"
   ]
  },
  {
   "cell_type": "markdown",
   "metadata": {},
   "source": [
    " <center><h1><font color=\"#660000\"> Les tableaux avec la bibliothèque Numpy</font></h1></center>\n",
    " \n",
    " <hr>\n",
    "<img src=\"Numpy_logo.png\" width=\"240\" height=\"240\" align=\"center\"/>\n",
    "\n",
    " \n",
    " <hr>\n",
    "\n",
    "<center><i>Notebook créer par : Walid ABDELJAWED</i></center>\n",
    "<hr>\n",
    " \n",
    "\n",
    "## Introduction\n",
    "\n",
    "\n",
    "Numpy, pour NUMerical PYthon est un package de base contenant des fonctions et des objets essentiels au traitement de données en Python.\n",
    "\n",
    "Numpy est un package Python spécialisé dans la manipulation des tableaux (array) : Vecteur et Matrices\n",
    "\n",
    "Pour utiliser la biblioyhèque Numpy, il faut importer la bibliothèque avec l'instruction suivante:\n"
   ]
  },
  {
   "cell_type": "code",
   "execution_count": 1,
   "metadata": {},
   "outputs": [],
   "source": [
    "import numpy as np"
   ]
  },
  {
   "cell_type": "markdown",
   "metadata": {},
   "source": [
    " ## Caractéristiques\n",
    "\n",
    "-  Les tableaux « numpy » ne gère que les objets de même type.\n",
    "-  Le package propose un grand nombre de routines pour un accès rapide aux données (ex. recherche, extraction), pour les manipulations diverses (ex. tri), pour les calculs (ex. calcul statistique) \n",
    "- Les  tableaux Numpy  sont plus performants (rapidité) que les collections usuelles  de Python (Listes)\n",
    "\n",
    "### Exemple pour expliqué la performance\n",
    "\n",
    "Créons deux listes de longueur 1000 chacune, avec des nombres tirés aléatoirement à l’aide de la fonction random() du module random. Divisons chaque élément de la première liste par l’élément à la même position dans la seconde ligne, puis calculons la somme de ces 1000 divisions."
   ]
  },
  {
   "cell_type": "code",
   "execution_count": 2,
   "metadata": {},
   "outputs": [
    {
     "name": "stdout",
     "output_type": "stream",
     "text": [
      "90.1 µs ± 6.6 µs per loop (mean ± std. dev. of 7 runs, 10000 loops each)\n"
     ]
    }
   ],
   "source": [
    "from random import random\n",
    "from operator import truediv\n",
    "l1 = [random() for i in range(1000)]\n",
    "l2 = [random() for i in range(1000)]\n",
    "%timeit s = sum(map(truediv,l1,l2))"
   ]
  },
  {
   "cell_type": "markdown",
   "metadata": {},
   "source": [
    "Créons deux tableaux dont leurs contenus sont les deux listes créer précédament, et fesons le même calcul"
   ]
  },
  {
   "cell_type": "code",
   "execution_count": 3,
   "metadata": {},
   "outputs": [
    {
     "name": "stdout",
     "output_type": "stream",
     "text": [
      "12.8 µs ± 240 ns per loop (mean ± std. dev. of 7 runs, 100000 loops each)\n"
     ]
    }
   ],
   "source": [
    "a1 = np.array(l1)\n",
    "a2 = np.array(l2)\n",
    "%timeit s = np.sum(a1/a2)"
   ]
  },
  {
   "cell_type": "markdown",
   "metadata": {},
   "source": [
    "## I. Création de Tableau\n",
    "### 1. Tableau à partir d'une Liste\n",
    "#### a. Création de tableau et matrice"
   ]
  },
  {
   "cell_type": "code",
   "execution_count": 4,
   "metadata": {},
   "outputs": [
    {
     "name": "stdout",
     "output_type": "stream",
     "text": [
      "[1 2 5 4]\n"
     ]
    }
   ],
   "source": [
    "import numpy as np\n",
    "Vect = np.array([1,2,5,4])\n",
    "print(Vect)"
   ]
  },
  {
   "cell_type": "code",
   "execution_count": 5,
   "metadata": {},
   "outputs": [
    {
     "name": "stdout",
     "output_type": "stream",
     "text": [
      "[[2.5 3.  5. ]\n",
      " [4.  0.  1. ]]\n"
     ]
    }
   ],
   "source": [
    "Mat = np.array([[2.5,3,5],[4,0,1]])\n",
    "print(Mat)"
   ]
  },
  {
   "cell_type": "markdown",
   "metadata": {},
   "source": [
    "#### b. Les attributs du tableau:\n",
    "* type(tableau) : Type de la structure ==> ndarray\n",
    "* tableau.dtype : Type des valeurs du tableau\n",
    "* tableau.ndim  : Nombre de dimensions\n",
    "* tableau.size  : Nombre des éléménents du tableau\n",
    "* tableau.shape : Nombre de ligne et de colonne"
   ]
  },
  {
   "cell_type": "code",
   "execution_count": 6,
   "metadata": {},
   "outputs": [
    {
     "name": "stdout",
     "output_type": "stream",
     "text": [
      "<class 'numpy.ndarray'>\n",
      "int32\n",
      "1\n",
      "4\n",
      "(4,)\n"
     ]
    }
   ],
   "source": [
    "# caractéristiques du tableau Vect:\n",
    "print(type(Vect))\n",
    "print(Vect.dtype)\n",
    "print(Vect.ndim)\n",
    "print(Vect.size)\n",
    "print(Vect.shape)"
   ]
  },
  {
   "cell_type": "code",
   "execution_count": 7,
   "metadata": {},
   "outputs": [
    {
     "name": "stdout",
     "output_type": "stream",
     "text": [
      "<class 'numpy.ndarray'>\n",
      "float64\n",
      "2\n",
      "6\n",
      "(2, 3)\n"
     ]
    }
   ],
   "source": [
    "# caractéristiques de la matrice Mat:\n",
    "print(type(Mat))\n",
    "print(Mat.dtype)\n",
    "print(Mat.ndim)\n",
    "print(Mat.size)\n",
    "print(Mat.shape)"
   ]
  },
  {
   "cell_type": "markdown",
   "metadata": {},
   "source": [
    "#### c. Typage des données\n",
    "1. Typage implicite:\n",
    "Créer le tableau sans déclarer le type de ces valeurs\n",
    "2. Typage explicite (Préférable):\n",
    "On utilise l'attribut dtype=type (avec type int, float, bool, ...) pour déclarer le type des valeurs"
   ]
  },
  {
   "cell_type": "code",
   "execution_count": 8,
   "metadata": {},
   "outputs": [],
   "source": [
    "#typage implicite\n",
    "a= np.array([1,2,3,4])\n",
    "#typage explicite\n",
    "a= np.array([1,2,3,4],dtype=float)\n",
    "#Vecteur de booléen\n",
    "a= np.array([True,False,True,True],dtype=bool)"
   ]
  },
  {
   "cell_type": "markdown",
   "metadata": {},
   "source": [
    "### 2. Création à partir des fonctions prédéfinies\n",
    "#### a. La fonction arange\n",
    "Syntaxe:\n",
    "\n",
    "<h4><center><b><i>a = np.arange(start= , stop= ,step = )</i></b></center></h4>\n",
    "\n",
    "<b>NB:</b> les étiquettes start, stop et step ne sont pas obligatoires"
   ]
  },
  {
   "cell_type": "code",
   "execution_count": 9,
   "metadata": {},
   "outputs": [
    {
     "name": "stdout",
     "output_type": "stream",
     "text": [
      "[2 3 4 5 6 7 8 9]\n"
     ]
    }
   ],
   "source": [
    "a = np.arange(start=2,stop=10)\n",
    "print(a)"
   ]
  },
  {
   "cell_type": "code",
   "execution_count": 10,
   "metadata": {},
   "outputs": [
    {
     "name": "stdout",
     "output_type": "stream",
     "text": [
      "[ 0  3  6  9 12 15 18]\n"
     ]
    }
   ],
   "source": [
    "a = np.arange(start=0,stop=20,step=3)\n",
    "print(a)"
   ]
  },
  {
   "cell_type": "markdown",
   "metadata": {},
   "source": [
    "#### b. La fonction linspace\n",
    "Syntaxe\n",
    "\n",
    "<h4><center><b><i>a = np.linspace(start= , stop= , num= )</i></b></center></h4>\n",
    "\n",
    "<b>NB:</b> les étiquettes start, stop et num ne sont pas obligatoires"
   ]
  },
  {
   "cell_type": "code",
   "execution_count": 12,
   "metadata": {},
   "outputs": [
    {
     "name": "stdout",
     "output_type": "stream",
     "text": [
      "[ 0.   2.5  5.   7.5 10. ]\n"
     ]
    }
   ],
   "source": [
    "a = np.linspace(0,10,5)\n",
    "print(a)"
   ]
  },
  {
   "cell_type": "markdown",
   "metadata": {},
   "source": [
    "#### c. la fonction ones\n",
    "Syntaxe:\n",
    "\n",
    "<h4><center><b><i>a = np.ones(shape= Nb)</i></b></center></h4>\n",
    "\n",
    "<b>NB:</b> l'étiquette shape n'est pas obligatoire"
   ]
  },
  {
   "cell_type": "code",
   "execution_count": 13,
   "metadata": {},
   "outputs": [
    {
     "name": "stdout",
     "output_type": "stream",
     "text": [
      "[1. 1. 1. 1. 1.]\n"
     ]
    }
   ],
   "source": [
    "a = np.ones(shape=5)\n",
    "print(a)"
   ]
  },
  {
   "cell_type": "code",
   "execution_count": 14,
   "metadata": {},
   "outputs": [
    {
     "name": "stdout",
     "output_type": "stream",
     "text": [
      "[[[1 1 1 1]\n",
      "  [1 1 1 1]\n",
      "  [1 1 1 1]]\n",
      "\n",
      " [[1 1 1 1]\n",
      "  [1 1 1 1]\n",
      "  [1 1 1 1]]]\n"
     ]
    }
   ],
   "source": [
    "a = np.ones((2,3,4),dtype=int)\n",
    "print(a)"
   ]
  },
  {
   "cell_type": "markdown",
   "metadata": {},
   "source": [
    "#### d. la fonction zeros\n",
    "Syntaxe:\n",
    "\n",
    "<h4><center><b><i>a = np.zeros(shape= Nb)</i></b></center></h4>"
   ]
  },
  {
   "cell_type": "code",
   "execution_count": 15,
   "metadata": {},
   "outputs": [
    {
     "name": "stdout",
     "output_type": "stream",
     "text": [
      "[0 0 0 0 0 0 0 0 0 0]\n"
     ]
    }
   ],
   "source": [
    "a= np.zeros(10, dtype=int)\n",
    "print(a)"
   ]
  },
  {
   "cell_type": "markdown",
   "metadata": {},
   "source": [
    "#### e. la fonction full\n",
    "\n",
    "Syntaxe:\n",
    "\n",
    "<h4><center><b><i>a = np.full(shape= Nb,full_value=Val)</i></b></center></h4>"
   ]
  },
  {
   "cell_type": "code",
   "execution_count": 17,
   "metadata": {},
   "outputs": [
    {
     "name": "stdout",
     "output_type": "stream",
     "text": [
      "[111 111 111 111 111]\n"
     ]
    }
   ],
   "source": [
    "a = np.full(5,111)\n",
    "print(a)"
   ]
  },
  {
   "cell_type": "markdown",
   "metadata": {},
   "source": [
    "### 3. Créer un tableau avec des valeurs aléatoires\n",
    "Syntaxe:\n",
    "\n",
    "<h4><center><b><i>random.randint(Valeur_min,Valeur_max_exclu,size)</i></b></center></h4> : valeur entre [Valeur_min,Valeur_max[ de type entier\n",
    "\n",
    "<h4><center><b><i>random.random(size)</i></b></center></h4> : Valeur entre [0,1[ de type réel"
   ]
  },
  {
   "cell_type": "code",
   "execution_count": 18,
   "metadata": {},
   "outputs": [
    {
     "name": "stdout",
     "output_type": "stream",
     "text": [
      "[54 57 74 77 77]\n"
     ]
    }
   ],
   "source": [
    "np.random.seed(0)\n",
    "a =np.random.randint(10,100,5)\n",
    "print(a)"
   ]
  },
  {
   "cell_type": "code",
   "execution_count": 19,
   "metadata": {},
   "outputs": [
    {
     "name": "stdout",
     "output_type": "stream",
     "text": [
      "[[7 9 3 5 2]\n",
      " [4 7 6 8 8]]\n"
     ]
    }
   ],
   "source": [
    "a = np.random.randint(10,size=(2,5))\n",
    "print(a)"
   ]
  },
  {
   "cell_type": "code",
   "execution_count": 20,
   "metadata": {},
   "outputs": [
    {
     "name": "stdout",
     "output_type": "stream",
     "text": [
      "[0.27265629 0.47766512 0.81216873 0.47997717 0.3927848  0.83607876\n",
      " 0.33739616 0.64817187 0.36824154 0.95715516]\n"
     ]
    }
   ],
   "source": [
    "a = np.random.random(10)\n",
    "print(a)"
   ]
  },
  {
   "cell_type": "markdown",
   "metadata": {},
   "source": [
    "### 4. Chargement à partir d'un fichier\n",
    "Syntaxe:\n",
    "\n",
    "<h4><center><b><i>a = np.genfromtxt(\"nom fichier.txt\",dtype=<type>,delimiter='\\t')</i></b></center></h4>"
   ]
  },
  {
   "cell_type": "code",
   "execution_count": 23,
   "metadata": {},
   "outputs": [
    {
     "name": "stdout",
     "output_type": "stream",
     "text": [
      "[[1.  2.  3. ]\n",
      " [4.  5.5 6. ]]\n"
     ]
    }
   ],
   "source": [
    "a = np.genfromtxt(\"file.csv\",delimiter=\",\",skip_header=1)\n",
    "print(a)"
   ]
  },
  {
   "cell_type": "code",
   "execution_count": 25,
   "metadata": {},
   "outputs": [
    {
     "name": "stdout",
     "output_type": "stream",
     "text": [
      "[[1 3]\n",
      " [4 6]]\n"
     ]
    }
   ],
   "source": [
    "a = np.genfromtxt(\"file.csv\",delimiter=\",\",skip_header=1,usecols=[0,2],dtype=np.int8)\n",
    "print(a)"
   ]
  },
  {
   "cell_type": "markdown",
   "metadata": {},
   "source": [
    "## II. Accès au éléments du tableau\n",
    "<u><b>Pour les vecteurs :</b></u> accéder à un élément d'indice <b>i</b> en utilisant la syntaxe : <b>tableau[i]</b>\n",
    "\n",
    "<u><b>Pour les matrices:</b></u> accéder à l’élément d’indice <b>i,j</b> en utilisant la syntaxe : <b>tableau[i,j]</b> ou <b>tableau[i][j]</b>\n"
   ]
  },
  {
   "cell_type": "code",
   "execution_count": 30,
   "metadata": {},
   "outputs": [
    {
     "name": "stdout",
     "output_type": "stream",
     "text": [
      "Tableau a :  [ 1  2  3  4  5  6  7  8  9 10 11 12]\n",
      "\n",
      "Tableau b:\n",
      " [[ 1  2  3]\n",
      " [ 4  5  6]\n",
      " [ 7  8  9]\n",
      " [10 11 12]]\n"
     ]
    }
   ],
   "source": [
    "import numpy as np\n",
    "a = np.arange(1,13)\n",
    "b = np.arange(1,13).reshape(4,3)\n",
    "print(\"Tableau a : \",a)\n",
    "print(\"\\nTableau b:\\n\",b)"
   ]
  },
  {
   "cell_type": "markdown",
   "metadata": {},
   "source": [
    "### 1. Premier élément et dernier élément d'un tableau et d'une matrice"
   ]
  },
  {
   "cell_type": "code",
   "execution_count": 31,
   "metadata": {},
   "outputs": [
    {
     "name": "stdout",
     "output_type": "stream",
     "text": [
      "1\n"
     ]
    }
   ],
   "source": [
    "# Premier élément du tableau a\n",
    "print(a[0])"
   ]
  },
  {
   "cell_type": "code",
   "execution_count": 34,
   "metadata": {},
   "outputs": [
    {
     "name": "stdout",
     "output_type": "stream",
     "text": [
      "1\n"
     ]
    }
   ],
   "source": [
    "# Premier élément du tableau b : 1ière méthode\n",
    "print(b[0,0])"
   ]
  },
  {
   "cell_type": "code",
   "execution_count": 35,
   "metadata": {},
   "outputs": [
    {
     "name": "stdout",
     "output_type": "stream",
     "text": [
      "1\n"
     ]
    }
   ],
   "source": [
    "# Premier élément du tableau b : 2ième méthode \n",
    "print(b[0][0])"
   ]
  },
  {
   "cell_type": "code",
   "execution_count": 36,
   "metadata": {},
   "outputs": [
    {
     "name": "stdout",
     "output_type": "stream",
     "text": [
      "12\n"
     ]
    }
   ],
   "source": [
    "# Dernier élément du tableau a: 1ière méthode\n",
    "print(a[a.size-1])"
   ]
  },
  {
   "cell_type": "code",
   "execution_count": 37,
   "metadata": {},
   "outputs": [
    {
     "name": "stdout",
     "output_type": "stream",
     "text": [
      "12\n"
     ]
    }
   ],
   "source": [
    "# Dernier élément du tableau a : 2ième méthode\n",
    "print(a[-1])"
   ]
  },
  {
   "cell_type": "code",
   "execution_count": 39,
   "metadata": {},
   "outputs": [
    {
     "name": "stdout",
     "output_type": "stream",
     "text": [
      "12\n"
     ]
    }
   ],
   "source": [
    "# Dernier élément du tableau b : 1ière méthode\n",
    "print(b[b.shape[0]-1,b.shape[1]-1])"
   ]
  },
  {
   "cell_type": "code",
   "execution_count": 40,
   "metadata": {},
   "outputs": [
    {
     "name": "stdout",
     "output_type": "stream",
     "text": [
      "12\n"
     ]
    }
   ],
   "source": [
    "# Dernier élément du tableau b : 2ième méthode\n",
    "print(b[-1,-1])"
   ]
  },
  {
   "cell_type": "markdown",
   "metadata": {},
   "source": [
    "### 2. Extraction d’une suite éléments du tableau : Slicing\n",
    "L’accès aux éléments d’un tableau se fait de la même manière que pour les listes, grâce à l’indiçage. La syntaxe est la suivante : <b>tableau[lower:upper:step]</b>\n",
    "\n",
    "avec <b><i>lower</i></b> la borne inférieur de la plage d’indices, <b><i>upper</i></b> la plage supérieur, et <b><i>step</i></b> l’espacement entre les valeurs.\n",
    "\n",
    "* Lorsque <i><b>lower</b></i> n’est pas précisé, le premier élément (indicé 0) est considéré comme la valeur attribuée à lower.\n",
    "* Lorsque <i><b>upper</b></i> n’est pas précisé, le dernier élément est considéré comme la valeur attribuée à upper.\n",
    "* Lorsque <i><b>step</b></i> n’est pas précisé, un pas de 1 est attribué par défaut.\n",
    "\n"
   ]
  },
  {
   "cell_type": "markdown",
   "metadata": {},
   "source": [
    "#### a. Tableau à une dimension"
   ]
  },
  {
   "cell_type": "code",
   "execution_count": 41,
   "metadata": {},
   "outputs": [
    {
     "name": "stdout",
     "output_type": "stream",
     "text": [
      "[ 1  2  3  4  5  6  7  8  9 10 11 12]\n"
     ]
    }
   ],
   "source": [
    "a = np.arange(1,13)\n",
    "print(a)"
   ]
  },
  {
   "cell_type": "code",
   "execution_count": 42,
   "metadata": {},
   "outputs": [
    {
     "data": {
      "text/plain": [
       "array([4, 5, 6])"
      ]
     },
     "execution_count": 42,
     "metadata": {},
     "output_type": "execute_result"
    }
   ],
   "source": [
    "# Extraire du 4ième élément au 6ième élément\n",
    "a[3:6] # utiliser une variable pour la sauvgarder ou utiliser print pour afficher"
   ]
  },
  {
   "cell_type": "code",
   "execution_count": 46,
   "metadata": {},
   "outputs": [
    {
     "name": "stdout",
     "output_type": "stream",
     "text": [
      "[ 4  5  6  7  8  9 10 11 12]\n"
     ]
    }
   ],
   "source": [
    "# Extraire du 4ième élément jusqu'a la fin\n",
    "print(a[3:])"
   ]
  },
  {
   "cell_type": "code",
   "execution_count": 44,
   "metadata": {},
   "outputs": [
    {
     "name": "stdout",
     "output_type": "stream",
     "text": [
      "[1 2 3]\n"
     ]
    }
   ],
   "source": [
    "# Extraire du premier élément jusqu'à le 3ième élément\n",
    "print(a[:3])"
   ]
  },
  {
   "cell_type": "markdown",
   "metadata": {},
   "source": [
    "#### b. Tableau à deux dimensions"
   ]
  },
  {
   "cell_type": "code",
   "execution_count": 52,
   "metadata": {},
   "outputs": [
    {
     "data": {
      "text/plain": [
       "array([[ 1,  2,  3,  4],\n",
       "       [ 5,  6,  7,  8],\n",
       "       [ 9, 10, 11, 12]])"
      ]
     },
     "execution_count": 52,
     "metadata": {},
     "output_type": "execute_result"
    }
   ],
   "source": [
    "b = np.arange(1,13).reshape(3,4)\n",
    "b"
   ]
  },
  {
   "cell_type": "code",
   "execution_count": 53,
   "metadata": {},
   "outputs": [
    {
     "name": "stdout",
     "output_type": "stream",
     "text": [
      "[1 5 9]\n"
     ]
    }
   ],
   "source": [
    "# Première colonne\n",
    "print(b[:,0])"
   ]
  },
  {
   "cell_type": "code",
   "execution_count": 54,
   "metadata": {},
   "outputs": [
    {
     "name": "stdout",
     "output_type": "stream",
     "text": [
      "[[ 1  3]\n",
      " [ 5  7]\n",
      " [ 9 11]]\n"
     ]
    }
   ],
   "source": [
    "# Première et 3ième colonne\n",
    "print(b[:,[0,2]])"
   ]
  },
  {
   "cell_type": "code",
   "execution_count": 55,
   "metadata": {},
   "outputs": [
    {
     "name": "stdout",
     "output_type": "stream",
     "text": [
      "[[ 2  3  4]\n",
      " [ 6  7  8]\n",
      " [10 11 12]]\n"
     ]
    }
   ],
   "source": [
    "# Du deuxième au dernière colonne\n",
    "print(b[:,1:])"
   ]
  },
  {
   "cell_type": "markdown",
   "metadata": {},
   "source": [
    "#### c. Extraction à l'aide des booléen"
   ]
  },
  {
   "cell_type": "code",
   "execution_count": 58,
   "metadata": {},
   "outputs": [
    {
     "data": {
      "text/plain": [
       "array([False,  True, False,  True, False,  True, False,  True, False,\n",
       "        True, False,  True])"
      ]
     },
     "execution_count": 58,
     "metadata": {},
     "output_type": "execute_result"
    }
   ],
   "source": [
    "masque_bool = [False,True]*6\n",
    "masque = np.array(masque_bool)\n",
    "masque"
   ]
  },
  {
   "cell_type": "code",
   "execution_count": 59,
   "metadata": {},
   "outputs": [
    {
     "name": "stdout",
     "output_type": "stream",
     "text": [
      "[ 2  4  6  8 10 12]\n"
     ]
    }
   ],
   "source": [
    "a = np.arange(1,13,dtype=np.int8)\n",
    "print(a[masque])"
   ]
  },
  {
   "cell_type": "code",
   "execution_count": 60,
   "metadata": {},
   "outputs": [
    {
     "name": "stdout",
     "output_type": "stream",
     "text": [
      "[ 2  4  6  8 10 12]\n"
     ]
    }
   ],
   "source": [
    "# Afficher les éléments pairs du tableau a\n",
    "print(a[a%2==0])"
   ]
  },
  {
   "cell_type": "code",
   "execution_count": 62,
   "metadata": {},
   "outputs": [
    {
     "name": "stdout",
     "output_type": "stream",
     "text": [
      "[10 11 18]\n"
     ]
    }
   ],
   "source": [
    "# Afficher les valeurs >=10\n",
    "c = np.random.randint(0,20,10)\n",
    "print(c[c>=10])"
   ]
  },
  {
   "cell_type": "markdown",
   "metadata": {},
   "source": [
    "## III. Modification des valeurs du tableau"
   ]
  },
  {
   "cell_type": "code",
   "execution_count": 64,
   "metadata": {},
   "outputs": [
    {
     "data": {
      "text/plain": [
       "array([[ 1,  2,  3],\n",
       "       [ 4,  5,  6],\n",
       "       [ 7,  8,  9],\n",
       "       [10, 11, 12]])"
      ]
     },
     "execution_count": 64,
     "metadata": {},
     "output_type": "execute_result"
    }
   ],
   "source": [
    "a = np.arange(1,13).reshape(4,3)\n",
    "a"
   ]
  },
  {
   "cell_type": "code",
   "execution_count": 65,
   "metadata": {},
   "outputs": [
    {
     "data": {
      "text/plain": [
       "array([[11, 12, 13],\n",
       "       [ 4,  5,  6],\n",
       "       [ 7,  8,  9],\n",
       "       [10, 11, 12]])"
      ]
     },
     "execution_count": 65,
     "metadata": {},
     "output_type": "execute_result"
    }
   ],
   "source": [
    "a[0]=[11,12,13]\n",
    "a"
   ]
  },
  {
   "cell_type": "code",
   "execution_count": 67,
   "metadata": {},
   "outputs": [
    {
     "data": {
      "text/plain": [
       "array([[11,  2,  2],\n",
       "       [ 4,  5,  6],\n",
       "       [ 7,  8,  9],\n",
       "       [10, 11, 12]])"
      ]
     },
     "execution_count": 67,
     "metadata": {},
     "output_type": "execute_result"
    }
   ],
   "source": [
    "a[0,1:]=2\n",
    "a"
   ]
  },
  {
   "cell_type": "markdown",
   "metadata": {},
   "source": [
    "### 1. Ajouter une valeur à la fin du tableau"
   ]
  },
  {
   "cell_type": "markdown",
   "metadata": {},
   "source": [
    "Pour ajouter une valeur à la fin d’un tableau, on utilise la fonction <i><b>append<b></i>\n"
   ]
  },
  {
   "cell_type": "code",
   "execution_count": 2,
   "metadata": {},
   "outputs": [
    {
     "data": {
      "text/plain": [
       "array([7, 6, 4, 9, 7])"
      ]
     },
     "execution_count": 2,
     "metadata": {},
     "output_type": "execute_result"
    }
   ],
   "source": [
    "import numpy as np\n",
    "a = np.random.randint(1,11,5)\n",
    "a"
   ]
  },
  {
   "cell_type": "code",
   "execution_count": 5,
   "metadata": {},
   "outputs": [
    {
     "data": {
      "text/plain": [
       "array([ 7,  6,  4,  9,  7, 20])"
      ]
     },
     "execution_count": 5,
     "metadata": {},
     "output_type": "execute_result"
    }
   ],
   "source": [
    "# Ajouter la valeur 20 à la fin du tableau\n",
    "np.append(a,20)"
   ]
  },
  {
   "cell_type": "code",
   "execution_count": 4,
   "metadata": {},
   "outputs": [
    {
     "data": {
      "text/plain": [
       "array([7, 6, 4, 9, 7])"
      ]
     },
     "execution_count": 4,
     "metadata": {},
     "output_type": "execute_result"
    }
   ],
   "source": [
    "# Le tableau n'est pas changer\n",
    "a"
   ]
  },
  {
   "cell_type": "code",
   "execution_count": 6,
   "metadata": {},
   "outputs": [
    {
     "data": {
      "text/plain": [
       "array([ 7,  6,  4,  9,  7, 20])"
      ]
     },
     "execution_count": 6,
     "metadata": {},
     "output_type": "execute_result"
    }
   ],
   "source": [
    "# La solution: Sauvegarder le résultat de append dans une variable\n",
    "a = np.append(a,20)\n",
    "a"
   ]
  },
  {
   "cell_type": "markdown",
   "metadata": {},
   "source": [
    "### 2. Insérer une valeur dans un tableau\n",
    "Pour insérer une valeur dans un tableau on utilise la fonction <b><i>insert</i></b> avec la syntaxe suivante:\n",
    "   <center> <h5><b><i>insert(Nom_tab,position,valeur)</i></b></h5></center>"
   ]
  },
  {
   "cell_type": "code",
   "execution_count": 38,
   "metadata": {},
   "outputs": [
    {
     "data": {
      "text/plain": [
       "array([ 7,  6, 50,  4,  9,  7, 20])"
      ]
     },
     "execution_count": 38,
     "metadata": {},
     "output_type": "execute_result"
    }
   ],
   "source": [
    "# insérer la valeur 50 dans la position 2 du tableau\n",
    "a = np.insert(a,2,50)\n",
    "a"
   ]
  },
  {
   "cell_type": "markdown",
   "metadata": {},
   "source": [
    "### 3. Ajouter une ligne à une matrice"
   ]
  },
  {
   "cell_type": "code",
   "execution_count": 30,
   "metadata": {},
   "outputs": [
    {
     "data": {
      "text/plain": [
       "array([[1, 2, 3],\n",
       "       [4, 5, 6]])"
      ]
     },
     "execution_count": 30,
     "metadata": {},
     "output_type": "execute_result"
    }
   ],
   "source": [
    "## Création de la matrice\n",
    "b = np.array([[1,2,3],[4,5,6]])\n",
    "b"
   ]
  },
  {
   "cell_type": "code",
   "execution_count": 31,
   "metadata": {},
   "outputs": [
    {
     "data": {
      "text/plain": [
       "array([[7, 8, 9]])"
      ]
     },
     "execution_count": 31,
     "metadata": {},
     "output_type": "execute_result"
    }
   ],
   "source": [
    "# Création d'une ligne\n",
    "ligne = np.array([[7,8,9]])\n",
    "ligne"
   ]
  },
  {
   "cell_type": "code",
   "execution_count": 32,
   "metadata": {},
   "outputs": [
    {
     "data": {
      "text/plain": [
       "array([[1, 2, 3],\n",
       "       [4, 5, 6],\n",
       "       [7, 8, 9]])"
      ]
     },
     "execution_count": 32,
     "metadata": {},
     "output_type": "execute_result"
    }
   ],
   "source": [
    "# Ajout de la ligne à la fin de la matrice\n",
    "b = np.append(b,ligne, axis =0)\n",
    "b"
   ]
  },
  {
   "cell_type": "markdown",
   "metadata": {},
   "source": [
    "### 3. Insérer une ligne dans une matrice"
   ]
  },
  {
   "cell_type": "markdown",
   "metadata": {},
   "source": [
    "Pour insérer une ligne ou une colonne dans une matrice on utilise la fonction <b><i>insert</i></b>, avec la syntaxe suivante:\n",
    "    <center><b><i><h5>insert(Nom_matrice,position,valeur,axis)</h5></i></B></center>\n",
    "    avec axis = 0 pour insérer une ligne et 1 pour insérer une colonne"
   ]
  },
  {
   "cell_type": "code",
   "execution_count": 33,
   "metadata": {},
   "outputs": [
    {
     "data": {
      "text/plain": [
       "array([[1, 2, 3],\n",
       "       [0, 0, 0],\n",
       "       [4, 5, 6],\n",
       "       [7, 8, 9]])"
      ]
     },
     "execution_count": 33,
     "metadata": {},
     "output_type": "execute_result"
    }
   ],
   "source": [
    "b = np.insert(b,1,[[0,0,0]],axis=0)\n",
    "b"
   ]
  },
  {
   "cell_type": "markdown",
   "metadata": {},
   "source": [
    "### 4. Ajouter une colonne à la fin d'une matrice"
   ]
  },
  {
   "cell_type": "code",
   "execution_count": 34,
   "metadata": {},
   "outputs": [
    {
     "data": {
      "text/plain": [
       "array([[9],\n",
       "       [9],\n",
       "       [9],\n",
       "       [9]])"
      ]
     },
     "execution_count": 34,
     "metadata": {},
     "output_type": "execute_result"
    }
   ],
   "source": [
    "# Création d'une colonne\n",
    "colonne =np.array([[9],[9],[9],[9]])\n",
    "colonne"
   ]
  },
  {
   "cell_type": "code",
   "execution_count": 35,
   "metadata": {},
   "outputs": [
    {
     "data": {
      "text/plain": [
       "array([[1, 2, 3, 9],\n",
       "       [0, 0, 0, 9],\n",
       "       [4, 5, 6, 9],\n",
       "       [7, 8, 9, 9]])"
      ]
     },
     "execution_count": 35,
     "metadata": {},
     "output_type": "execute_result"
    }
   ],
   "source": [
    "b = np.append(b,colonne,axis=1)\n",
    "b"
   ]
  },
  {
   "cell_type": "markdown",
   "metadata": {},
   "source": [
    "### 5. Insérer une colonne dans une matrice"
   ]
  },
  {
   "cell_type": "code",
   "execution_count": 36,
   "metadata": {},
   "outputs": [
    {
     "data": {
      "text/plain": [
       "array([[8, 1, 2, 3, 9],\n",
       "       [8, 0, 0, 0, 9],\n",
       "       [8, 4, 5, 6, 9],\n",
       "       [8, 7, 8, 9, 9]])"
      ]
     },
     "execution_count": 36,
     "metadata": {},
     "output_type": "execute_result"
    }
   ],
   "source": [
    "# Création d'une colonne\n",
    "colonne = np.array([8,8,8,8]).reshape(4,1)\n",
    "b= np.insert(b,[0],colonne,axis=1)\n",
    "b"
   ]
  },
  {
   "cell_type": "markdown",
   "metadata": {},
   "source": [
    "#### Remarque:"
   ]
  },
  {
   "cell_type": "markdown",
   "metadata": {},
   "source": [
    "il faut mêtre la position d'insertion entre deux crochets"
   ]
  },
  {
   "cell_type": "markdown",
   "metadata": {},
   "source": [
    "## IV. Copie de tableau "
   ]
  },
  {
   "cell_type": "code",
   "execution_count": 42,
   "metadata": {},
   "outputs": [
    {
     "name": "stdout",
     "output_type": "stream",
     "text": [
      "tableau a: [1000    2    3    4]\n",
      "tableau b: [1000    2    3    4]\n"
     ]
    }
   ],
   "source": [
    "a = np.array([1,2,3,4])\n",
    "b = a\n",
    "b[0] = 1000\n",
    "print(\"tableau a:\",a)\n",
    "print(\"tableau b:\",b)"
   ]
  },
  {
   "cell_type": "markdown",
   "metadata": {},
   "source": [
    "#### Remarque :\n",
    "Lorsqu'on fait une copie du tableau avec le signe <b>=</b> toute modification se fait sur la copie à un impact sur le tableau d'origine"
   ]
  },
  {
   "cell_type": "code",
   "execution_count": 43,
   "metadata": {},
   "outputs": [
    {
     "name": "stdout",
     "output_type": "stream",
     "text": [
      "tableau a: [1 2 3 4]\n",
      "tableau b: [1000    2    3    4]\n"
     ]
    }
   ],
   "source": [
    "a = np.array([1,2,3,4])\n",
    "b= np.copy(a)\n",
    "b[0]=1000\n",
    "print(\"tableau a:\",a)\n",
    "print(\"tableau b:\",b)"
   ]
  },
  {
   "cell_type": "markdown",
   "metadata": {},
   "source": [
    "#### Remarque : \n",
    "Pour faire une copie d'un tableau, il faut utiliser la fonction <b>copie</b>"
   ]
  },
  {
   "cell_type": "markdown",
   "metadata": {},
   "source": [
    "## V.Tri du tableau"
   ]
  },
  {
   "cell_type": "markdown",
   "metadata": {},
   "source": [
    "<h5><b><i><center>sort(nom_tableau,axis={-1,0,1},kind={\"quicksort\", \"mergesort\", \"heapsort\", \"stable\"})</center></i></b></h5>\n",
    "avec \n",
    "\n",
    "* axis = -1 : suivant le dernier axe)\n",
    "* axis = 0 : tri par colonne) \n",
    "* axis= 1 : tri par ligne)\n",
    "* rien : le tableau sera aplati avnt le tri"
   ]
  },
  {
   "cell_type": "code",
   "execution_count": 44,
   "metadata": {},
   "outputs": [
    {
     "data": {
      "text/plain": [
       "array([55, 94, 50, 58, 44, 35, 85, 33, 52, 92])"
      ]
     },
     "execution_count": 44,
     "metadata": {},
     "output_type": "execute_result"
    }
   ],
   "source": [
    "# Création du tableau\n",
    "a = np.random.randint(10,100,10)\n",
    "a"
   ]
  },
  {
   "cell_type": "code",
   "execution_count": 45,
   "metadata": {},
   "outputs": [
    {
     "name": "stdout",
     "output_type": "stream",
     "text": [
      "[7 5 4 2 8 0 3 6 9 1]\n"
     ]
    }
   ],
   "source": [
    "# l'ordre des index qui permettrait le tri\n",
    "print(np.argsort(a))"
   ]
  },
  {
   "cell_type": "code",
   "execution_count": 46,
   "metadata": {},
   "outputs": [
    {
     "name": "stdout",
     "output_type": "stream",
     "text": [
      "[33 35 44 50 52 55 58 85 92 94]\n"
     ]
    }
   ],
   "source": [
    "# Tri\n",
    "a = np.sort(a)\n",
    "# Affichage du tableau apès Tri\n",
    "print(a)"
   ]
  },
  {
   "cell_type": "code",
   "execution_count": 49,
   "metadata": {},
   "outputs": [
    {
     "data": {
      "text/plain": [
       "array([[35, 56, 49, 83],\n",
       "       [60, 81, 27, 98],\n",
       "       [61, 66, 97, 24],\n",
       "       [33, 18, 96, 28]])"
      ]
     },
     "execution_count": 49,
     "metadata": {},
     "output_type": "execute_result"
    }
   ],
   "source": [
    "b = np.random.randint(10,99,16).reshape(4,4)\n",
    "b"
   ]
  },
  {
   "cell_type": "code",
   "execution_count": 50,
   "metadata": {},
   "outputs": [
    {
     "data": {
      "text/plain": [
       "array([[33, 18, 27, 24],\n",
       "       [35, 56, 49, 28],\n",
       "       [60, 66, 96, 83],\n",
       "       [61, 81, 97, 98]])"
      ]
     },
     "execution_count": 50,
     "metadata": {},
     "output_type": "execute_result"
    }
   ],
   "source": [
    "# Tri par colonne, méthode mergesort\n",
    "c =np.sort(b,0,\"mergesort\")\n",
    "c"
   ]
  },
  {
   "cell_type": "code",
   "execution_count": 51,
   "metadata": {},
   "outputs": [
    {
     "data": {
      "text/plain": [
       "array([[35, 49, 56, 83],\n",
       "       [27, 60, 81, 98],\n",
       "       [24, 61, 66, 97],\n",
       "       [18, 28, 33, 96]])"
      ]
     },
     "execution_count": 51,
     "metadata": {},
     "output_type": "execute_result"
    }
   ],
   "source": [
    "# tri par ligne, méthode heapsort\n",
    "t = np.sort(b,1,\"heapsort\")\n",
    "t"
   ]
  },
  {
   "cell_type": "markdown",
   "metadata": {},
   "source": [
    "## VI. Les fonctions universelles"
   ]
  },
  {
   "cell_type": "markdown",
   "metadata": {},
   "source": [
    "Une fonction universelle (le terme exact est « ufunc », abréviation de universal function) est une fonction qui peut s’appliquer terme à terme aux éléments d’un tableau."
   ]
  },
  {
   "cell_type": "markdown",
   "metadata": {},
   "source": [
    "### 1. Calcul arithmétique"
   ]
  },
  {
   "cell_type": "code",
   "execution_count": 53,
   "metadata": {},
   "outputs": [
    {
     "data": {
      "text/plain": [
       "array([1, 2, 3, 4, 5, 6, 7, 8, 9])"
      ]
     },
     "execution_count": 53,
     "metadata": {},
     "output_type": "execute_result"
    }
   ],
   "source": [
    "a = np.arange(1,10,dtype=int)\n",
    "a"
   ]
  },
  {
   "cell_type": "code",
   "execution_count": 54,
   "metadata": {},
   "outputs": [
    {
     "data": {
      "text/plain": [
       "array([ 2,  3,  4,  5,  6,  7,  8,  9, 10])"
      ]
     },
     "execution_count": 54,
     "metadata": {},
     "output_type": "execute_result"
    }
   ],
   "source": [
    "a + 1"
   ]
  },
  {
   "cell_type": "code",
   "execution_count": 55,
   "metadata": {},
   "outputs": [
    {
     "data": {
      "text/plain": [
       "array([10, 20, 30, 40, 50, 60, 70, 80, 90])"
      ]
     },
     "execution_count": 55,
     "metadata": {},
     "output_type": "execute_result"
    }
   ],
   "source": [
    "a *10"
   ]
  },
  {
   "cell_type": "code",
   "execution_count": 56,
   "metadata": {},
   "outputs": [
    {
     "data": {
      "text/plain": [
       "array([1.        , 0.5       , 0.33333333, 0.25      , 0.2       ,\n",
       "       0.16666667, 0.14285714, 0.125     , 0.11111111])"
      ]
     },
     "execution_count": 56,
     "metadata": {},
     "output_type": "execute_result"
    }
   ],
   "source": [
    "1/a"
   ]
  },
  {
   "cell_type": "code",
   "execution_count": 57,
   "metadata": {},
   "outputs": [
    {
     "data": {
      "text/plain": [
       "array([ 1,  4,  9, 16, 25, 36, 49, 64, 81], dtype=int32)"
      ]
     },
     "execution_count": 57,
     "metadata": {},
     "output_type": "execute_result"
    }
   ],
   "source": [
    "a**2"
   ]
  },
  {
   "cell_type": "markdown",
   "metadata": {},
   "source": [
    "### 2. Calcul arithmétique sur les tableaux"
   ]
  },
  {
   "cell_type": "markdown",
   "metadata": {},
   "source": [
    "* <b>add(a,b)</b> additionne terme à terme les éléments de a et b (autre syntaxe possible : a + b)\n",
    "* <b>subtract(a,b)</b> soustrait terme à terme les éléments de b à ceuxdea (autre syntaxe possible : a - b )\n",
    "* <b>multiply(a,b)</b> multiplie terme à terme les éléments de a et b (autre syntaxe possible : a ∗ b)\n",
    "* <b>divide(a,b)</b> quotients (ﬂottants) terme à terme des éléments de a par ceux de b (autre syntaxe : a/b)\n",
    "* <b>floor_divide(a,b)</b> quotients (entiers) des divisions des éléments de a par ceux de b (autre syntaxe : a//b)\n",
    "* <b>power(a,b)</b> élève les éléments de a à la puissance les éléments de b\n",
    "* <b>mod(a,b)</b> donne les restes dans les divisions des éléments de a par ceux de b\n",
    "* <b>negative(a)</b> (tableaux des opposés : autre syntaxe possible -a),\n",
    "* <b>absolute(a)</b> (modules), \n",
    "* <b>sign(a)</b>  Signes des éléments de x (0, 1 ou -1)\n",
    "* <b>rint(a)</b> (à l’entier), \n",
    "* <b>floor(a)</b>  Troncature de x à l’entier inférieur\n",
    "* <b>ceil(a)</b> Troncature de x à l’entier supérieur \n",
    "* <b>trunc(a)</b> troncature, \n",
    "* <b>round_(a,n)</b> arrondi les éléments du tableau a à n décimales\n",
    "* <b>sqrt</b>  Racine carré\n",
    "* <b>square</b>: Carré\n",
    "* <b>sin cos tan arcsin arccos arctan sinh cosh tanh arcsinh arccosh arctanh</b>\n",
    "* ...\n",
    " \n",
    "Télécharger le document pdf à partir de ce <a href=\"http://perso.univ-perp.fr/langlois/images/pdf/mp/www.mathprepa.fr-une-petite-reference-numpy.pdf\">lien </a>pour les autres fonctions avec des exemples. \n"
   ]
  },
  {
   "cell_type": "markdown",
   "metadata": {},
   "source": [
    "## VII. Les fonctions statistiques"
   ]
  },
  {
   "cell_type": "markdown",
   "metadata": {},
   "source": [
    "<img src=\"img/MMS.png\"/>"
   ]
  },
  {
   "cell_type": "code",
   "execution_count": 58,
   "metadata": {},
   "outputs": [
    {
     "data": {
      "text/plain": [
       "array([ 4, 34, 85, 58, 41,  6, 17, 58,  7, 31])"
      ]
     },
     "execution_count": 58,
     "metadata": {},
     "output_type": "execute_result"
    }
   ],
   "source": [
    "a = np.random.randint(0,100,10)\n",
    "a"
   ]
  },
  {
   "cell_type": "code",
   "execution_count": 60,
   "metadata": {},
   "outputs": [
    {
     "name": "stdout",
     "output_type": "stream",
     "text": [
      "somme =  341\n",
      "Produit =  -1264798272\n",
      "le max est  85 à la position 2\n",
      "la somme cumulé est égale à [  4  38 123 181 222 228 245 303 310 341]\n"
     ]
    }
   ],
   "source": [
    "# Calcul de sommes des éléments\n",
    "print(\"somme = \",np.sum(a))\n",
    "# Cacul du produit\n",
    "print(\"Produit = \",np.prod(a))\n",
    "# recherche du maximum et sa position\n",
    "print(\"le max est \",np.max(a),\"à la position\",np.argmax(a))\n",
    "# Calcul de la somme cumulé à la position 5\n",
    "print(\"la somme cumulé est égale à\",np.cumsum(a))"
   ]
  },
  {
   "cell_type": "markdown",
   "metadata": {},
   "source": [
    "## VIII. Les fonctions logiques\n",
    "\n",
    "<img src=\"img/logique.png\"/>"
   ]
  },
  {
   "cell_type": "code",
   "execution_count": 61,
   "metadata": {},
   "outputs": [
    {
     "data": {
      "text/plain": [
       "array([[ 1,  2,  3,  4],\n",
       "       [ 5,  6,  7,  8],\n",
       "       [ 9, 10, 11, 12]])"
      ]
     },
     "execution_count": 61,
     "metadata": {},
     "output_type": "execute_result"
    }
   ],
   "source": [
    "a = np.arange(1,13).reshape(3,4)\n",
    "a"
   ]
  },
  {
   "cell_type": "code",
   "execution_count": 62,
   "metadata": {},
   "outputs": [
    {
     "name": "stdout",
     "output_type": "stream",
     "text": [
      "[[False False False False]\n",
      " [False  True  True  True]\n",
      " [ True  True  True  True]]\n"
     ]
    }
   ],
   "source": [
    "print(np.greater(a,5))"
   ]
  },
  {
   "cell_type": "code",
   "execution_count": 63,
   "metadata": {},
   "outputs": [
    {
     "name": "stdout",
     "output_type": "stream",
     "text": [
      "[[False False False False]\n",
      " [False  True  True  True]\n",
      " [ True  True  True  True]]\n"
     ]
    }
   ],
   "source": [
    "print(a>5)"
   ]
  },
  {
   "cell_type": "code",
   "execution_count": 64,
   "metadata": {},
   "outputs": [
    {
     "name": "stdout",
     "output_type": "stream",
     "text": [
      "masque:\n",
      " [[False  True False False]\n",
      " [False  True False False]\n",
      " [False False False  True]]\n",
      "les éléments de t compris entre 10 et 20:\n",
      " [10 12 14]\n"
     ]
    }
   ],
   "source": [
    "t = np.array([[1,10,3,24],[9,12,40,2],[0,7,2,14]])\n",
    "masque = np.logical_and(t<=20,t>=10)\n",
    "print(\"masque:\\n\",masque)\n",
    "print(\"les éléments de t compris entre 10 et 20:\\n\",t[masque])"
   ]
  },
  {
   "cell_type": "markdown",
   "metadata": {},
   "source": [
    "## IX. Produit matriciel"
   ]
  },
  {
   "cell_type": "code",
   "execution_count": 66,
   "metadata": {},
   "outputs": [
    {
     "name": "stdout",
     "output_type": "stream",
     "text": [
      "[[0 1 2]\n",
      " [3 4 5]\n",
      " [6 7 8]] \n",
      "\n",
      "[[1. 1. 1.]\n",
      " [1. 1. 1.]\n",
      " [1. 1. 1.]]\n"
     ]
    }
   ],
   "source": [
    "A = np.arange(0,9).reshape(3,3)\n",
    "print(A,\"\\n\")\n",
    "B = np.ones((3,3))\n",
    "print(B)"
   ]
  },
  {
   "cell_type": "code",
   "execution_count": 67,
   "metadata": {},
   "outputs": [
    {
     "name": "stdout",
     "output_type": "stream",
     "text": [
      "[[ 3.  3.  3.]\n",
      " [12. 12. 12.]\n",
      " [21. 21. 21.]]\n"
     ]
    }
   ],
   "source": [
    "C = np.dot(A,B)\n",
    "print(C)"
   ]
  },
  {
   "cell_type": "code",
   "execution_count": 68,
   "metadata": {},
   "outputs": [
    {
     "data": {
      "text/plain": [
       "array([[ 3.,  3.,  3.],\n",
       "       [12., 12., 12.],\n",
       "       [21., 21., 21.]])"
      ]
     },
     "execution_count": 68,
     "metadata": {},
     "output_type": "execute_result"
    }
   ],
   "source": [
    "D = A @ B\n",
    "D"
   ]
  },
  {
   "cell_type": "markdown",
   "metadata": {},
   "source": [
    "## X. Les constantes de Numpy\n",
    "<img src=\"img/const.png\"/>"
   ]
  },
  {
   "cell_type": "markdown",
   "metadata": {},
   "source": [
    "## XI. Manipulations des tableaux\n",
    "### 1. Joindre des tableaux\n",
    "#### a. Joindre des tableaux horizontalement"
   ]
  },
  {
   "cell_type": "code",
   "execution_count": 74,
   "metadata": {},
   "outputs": [
    {
     "name": "stdout",
     "output_type": "stream",
     "text": [
      "[[1. 1. 1. 0. 0. 0.]\n",
      " [1. 1. 1. 0. 0. 0.]\n",
      " [1. 1. 1. 0. 0. 0.]]\n"
     ]
    }
   ],
   "source": [
    "A = np.ones((3,3))\n",
    "B = np.zeros((3,3))\n",
    "C = np.hstack((A,B))\n",
    "print(C)"
   ]
  },
  {
   "cell_type": "markdown",
   "metadata": {},
   "source": [
    "#### b. Joindre des tableaux verticalement"
   ]
  },
  {
   "cell_type": "code",
   "execution_count": 75,
   "metadata": {},
   "outputs": [
    {
     "name": "stdout",
     "output_type": "stream",
     "text": [
      "[[1. 1. 1.]\n",
      " [1. 1. 1.]\n",
      " [1. 1. 1.]\n",
      " [0. 0. 0.]\n",
      " [0. 0. 0.]\n",
      " [0. 0. 0.]]\n"
     ]
    }
   ],
   "source": [
    "C = np.vstack((A,B))\n",
    "print(C)"
   ]
  },
  {
   "cell_type": "markdown",
   "metadata": {},
   "source": [
    "#### c. rows_stack et column_stack"
   ]
  },
  {
   "cell_type": "code",
   "execution_count": 82,
   "metadata": {},
   "outputs": [
    {
     "data": {
      "text/plain": [
       "array([[0, 3, 6],\n",
       "       [1, 4, 7],\n",
       "       [2, 5, 8]])"
      ]
     },
     "execution_count": 82,
     "metadata": {},
     "output_type": "execute_result"
    }
   ],
   "source": [
    "a = np.array([0, 1, 2])\n",
    "b = np.array([3, 4, 5])\n",
    "c = np.array([6, 7, 8])\n",
    "A = np.column_stack((a, b, c))\n",
    "A"
   ]
  },
  {
   "cell_type": "code",
   "execution_count": 83,
   "metadata": {},
   "outputs": [
    {
     "data": {
      "text/plain": [
       "array([[0, 1, 2],\n",
       "       [3, 4, 5],\n",
       "       [6, 7, 8]])"
      ]
     },
     "execution_count": 83,
     "metadata": {},
     "output_type": "execute_result"
    }
   ],
   "source": [
    "B = np.row_stack((a, b, c))\n",
    "B"
   ]
  },
  {
   "cell_type": "markdown",
   "metadata": {},
   "source": [
    "### 2. Diviser en tableaux\n",
    "#### a. Dévision horizontale"
   ]
  },
  {
   "cell_type": "code",
   "execution_count": 76,
   "metadata": {},
   "outputs": [
    {
     "data": {
      "text/plain": [
       "array([[ 0,  1,  2,  3],\n",
       "       [ 4,  5,  6,  7],\n",
       "       [ 8,  9, 10, 11],\n",
       "       [12, 13, 14, 15]])"
      ]
     },
     "execution_count": 76,
     "metadata": {},
     "output_type": "execute_result"
    }
   ],
   "source": [
    "A = np.arange(16).reshape((4, 4))\n",
    "A"
   ]
  },
  {
   "cell_type": "code",
   "execution_count": 79,
   "metadata": {},
   "outputs": [
    {
     "name": "stdout",
     "output_type": "stream",
     "text": [
      "[[ 0  1]\n",
      " [ 4  5]\n",
      " [ 8  9]\n",
      " [12 13]]\n"
     ]
    }
   ],
   "source": [
    "[B,C] = np.hsplit(A,2)\n",
    "B"
   ]
  },
  {
   "cell_type": "code",
   "execution_count": 78,
   "metadata": {},
   "outputs": [
    {
     "data": {
      "text/plain": [
       "array([[ 2,  3],\n",
       "       [ 6,  7],\n",
       "       [10, 11],\n",
       "       [14, 15]])"
      ]
     },
     "execution_count": 78,
     "metadata": {},
     "output_type": "execute_result"
    }
   ],
   "source": [
    "C"
   ]
  },
  {
   "cell_type": "markdown",
   "metadata": {},
   "source": [
    "#### b.Division verticale"
   ]
  },
  {
   "cell_type": "code",
   "execution_count": 80,
   "metadata": {},
   "outputs": [
    {
     "data": {
      "text/plain": [
       "array([[0, 1, 2, 3],\n",
       "       [4, 5, 6, 7]])"
      ]
     },
     "execution_count": 80,
     "metadata": {},
     "output_type": "execute_result"
    }
   ],
   "source": [
    "A = np.arange(16).reshape((4, 4))\n",
    "[B,C] = np.vsplit(A,2)\n",
    "B"
   ]
  },
  {
   "cell_type": "code",
   "execution_count": 81,
   "metadata": {},
   "outputs": [
    {
     "data": {
      "text/plain": [
       "array([[ 8,  9, 10, 11],\n",
       "       [12, 13, 14, 15]])"
      ]
     },
     "execution_count": 81,
     "metadata": {},
     "output_type": "execute_result"
    }
   ],
   "source": [
    "C"
   ]
  },
  {
   "cell_type": "code",
   "execution_count": null,
   "metadata": {},
   "outputs": [],
   "source": []
  }
 ],
 "metadata": {
  "kernelspec": {
   "display_name": "Python 3",
   "language": "python",
   "name": "python3"
  },
  "language_info": {
   "codemirror_mode": {
    "name": "ipython",
    "version": 3
   },
   "file_extension": ".py",
   "mimetype": "text/x-python",
   "name": "python",
   "nbconvert_exporter": "python",
   "pygments_lexer": "ipython3",
   "version": "3.7.3"
  }
 },
 "nbformat": 4,
 "nbformat_minor": 2
}
